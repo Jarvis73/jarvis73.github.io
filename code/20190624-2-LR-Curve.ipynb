{
 "cells": [
  {
   "cell_type": "code",
   "execution_count": 1,
   "metadata": {},
   "outputs": [],
   "source": [
    "import numpy as np\n",
    "import matplotlib\n",
    "font = {'family' : 'normal',\n",
    "        'size'   : 32}\n",
    "matplotlib.rc('font', **font)\n",
    "%matplotlib qt5\n",
    "import matplotlib.pyplot as plt"
   ]
  },
  {
   "cell_type": "code",
   "execution_count": 2,
   "metadata": {},
   "outputs": [],
   "source": [
    "def foo(x):\n",
    "    return 0.001 * np.sqrt(1 - 0.999 ** x) / (1 - 0.9 ** x)"
   ]
  },
  {
   "cell_type": "code",
   "execution_count": 3,
   "metadata": {},
   "outputs": [],
   "source": [
    "x = np.linspace(1, 5000, 500)\n",
    "y = foo(x)"
   ]
  },
  {
   "cell_type": "code",
   "execution_count": 7,
   "metadata": {},
   "outputs": [],
   "source": [
    "plt.plot(x, y, linewidth=5)\n",
    "plt.xlabel(r\"$$ t $$\")\n",
    "plt.legend([r\"$$ \\gamma_t $$\"])\n",
    "plt.title(r\"$$ \\beta_1=0.9\\quad\\beta_2=0.999\\quad lr=0.001 $$\")\n",
    "plt.show()"
   ]
  },
  {
   "cell_type": "code",
   "execution_count": null,
   "metadata": {},
   "outputs": [],
   "source": []
  }
 ],
 "metadata": {
  "kernelspec": {
   "display_name": "Python 3",
   "language": "python",
   "name": "python3"
  },
  "language_info": {
   "codemirror_mode": {
    "name": "ipython",
    "version": 3
   },
   "file_extension": ".py",
   "mimetype": "text/x-python",
   "name": "python",
   "nbconvert_exporter": "python",
   "pygments_lexer": "ipython3",
   "version": "3.7.3"
  }
 },
 "nbformat": 4,
 "nbformat_minor": 2
}
